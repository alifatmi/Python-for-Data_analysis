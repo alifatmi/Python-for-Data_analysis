{
 "cells": [
  {
   "cell_type": "markdown",
   "metadata": {},
   "source": [
    "## python ka chla with baba_ammar\n",
    "### how to use note book\n",
    "#### basics of python\n",
    "#### 01 -My first program"
   ]
  },
  {
   "cell_type": "code",
   "execution_count": 4,
   "metadata": {},
   "outputs": [
    {
     "name": "stdout",
     "output_type": "stream",
     "text": [
      "6\n",
      "hellow world\n"
     ]
    }
   ],
   "source": [
    "print(3+3)\n",
    "print(\"hellow world\")"
   ]
  },
  {
   "cell_type": "markdown",
   "metadata": {},
   "source": [
    "---"
   ]
  },
  {
   "cell_type": "markdown",
   "metadata": {},
   "source": [
    "#### 02 operator"
   ]
  },
  {
   "cell_type": "code",
   "execution_count": 8,
   "metadata": {},
   "outputs": [
    {
     "name": "stdout",
     "output_type": "stream",
     "text": [
      "5\n",
      "-1\n",
      "2.0\n",
      "12\n",
      "1\n"
     ]
    }
   ],
   "source": [
    "print(2+3)\n",
    "print(2-3)\n",
    "print(6/3)\n",
    "print(4*3)\n",
    "print(13%3)"
   ]
  },
  {
   "cell_type": "code",
   "execution_count": 9,
   "metadata": {},
   "outputs": [
    {
     "name": "stdout",
     "output_type": "stream",
     "text": [
      "3\n"
     ]
    }
   ],
   "source": [
    "print(6//2) ##for the gainig whole number"
   ]
  },
  {
   "cell_type": "code",
   "execution_count": 10,
   "metadata": {},
   "outputs": [
    {
     "name": "stdout",
     "output_type": "stream",
     "text": [
      "16\n"
     ]
    }
   ],
   "source": [
    "print(2**4) ## for the power"
   ]
  },
  {
   "cell_type": "code",
   "execution_count": 13,
   "metadata": {},
   "outputs": [
    {
     "name": "stdout",
     "output_type": "stream",
     "text": [
      "98.88888888888889\n"
     ]
    }
   ],
   "source": [
    "print((8+5)+2*4/9+4+9**2) ## PEMDAS"
   ]
  },
  {
   "cell_type": "markdown",
   "metadata": {},
   "source": [
    "---"
   ]
  },
  {
   "cell_type": "markdown",
   "metadata": {},
   "source": [
    "#### 03 -strings"
   ]
  },
  {
   "cell_type": "code",
   "execution_count": 18,
   "metadata": {},
   "outputs": [
    {
     "name": "stdout",
     "output_type": "stream",
     "text": [
      "test for single quotes\n",
      "test for double quotes\n",
      "test for triple quotes\n"
     ]
    }
   ],
   "source": [
    "print(\"test for single quotes\")\n",
    "print('test for double quotes')\n",
    "print('''test for triple quotes''')"
   ]
  },
  {
   "cell_type": "code",
   "execution_count": 19,
   "metadata": {},
   "outputs": [
    {
     "name": "stdout",
     "output_type": "stream",
     "text": [
      "whats's up\n"
     ]
    }
   ],
   "source": [
    "print(\"whats's up\")"
   ]
  },
  {
   "cell_type": "markdown",
   "metadata": {},
   "source": [
    "---"
   ]
  },
  {
   "cell_type": "markdown",
   "metadata": {},
   "source": [
    "#### 04 -commnet in python\n",
    "the shortcut key of comment is **(clrt+/)**\n"
   ]
  },
  {
   "cell_type": "code",
   "execution_count": 22,
   "metadata": {},
   "outputs": [
    {
     "name": "stdout",
     "output_type": "stream",
     "text": [
      "ali fatmi\n",
      "11\n"
     ]
    }
   ],
   "source": [
    "print(\"ali fatmi\")\n",
    "# print (\"we are learing python\") how to write the comment (clrt+/)\n",
    "print(2+9)"
   ]
  },
  {
   "cell_type": "markdown",
   "metadata": {},
   "source": [
    "#### 05-variables"
   ]
  },
  {
   "cell_type": "code",
   "execution_count": 27,
   "metadata": {},
   "outputs": [
    {
     "name": "stdout",
     "output_type": "stream",
     "text": [
      "3\n",
      "we are learning python\n",
      "6\n"
     ]
    }
   ],
   "source": [
    "x = 3\n",
    "print(x) ## for the integer\n",
    "\n",
    "\n",
    "y= \"we are learning python\" ## for the string\n",
    "print(y)\n",
    "\n",
    "x=x+3\n",
    "print(x)"
   ]
  },
  {
   "cell_type": "code",
   "execution_count": 28,
   "metadata": {},
   "outputs": [
    {
     "name": "stdout",
     "output_type": "stream",
     "text": [
      "<class 'int'>\n"
     ]
    }
   ],
   "source": [
    "type(x) # type of variable\n",
    "print(type(x))"
   ]
  },
  {
   "cell_type": "code",
   "execution_count": 31,
   "metadata": {},
   "outputs": [
    {
     "name": "stdout",
     "output_type": "stream",
     "text": [
      "mangoes,oranges\n"
     ]
    }
   ],
   "source": [
    "fruit_basket =\"mangoes,oranges\"\n",
    "print(fruit_basket)"
   ]
  },
  {
   "cell_type": "code",
   "execution_count": 32,
   "metadata": {},
   "outputs": [
    {
     "name": "stdout",
     "output_type": "stream",
     "text": [
      "<class 'str'>\n"
     ]
    }
   ],
   "source": [
    "print(type(fruit_basket))"
   ]
  },
  {
   "cell_type": "code",
   "execution_count": 34,
   "metadata": {},
   "outputs": [
    {
     "name": "stdout",
     "output_type": "stream",
     "text": [
      "<class 'int'>\n"
     ]
    }
   ],
   "source": [
    "fruit_basket = 6\n",
    "print(type(fruit_basket))"
   ]
  },
  {
   "cell_type": "markdown",
   "metadata": {},
   "source": [
    "---"
   ]
  },
  {
   "cell_type": "markdown",
   "metadata": {},
   "source": [
    "#### 06-input variables"
   ]
  },
  {
   "cell_type": "code",
   "execution_count": 37,
   "metadata": {},
   "outputs": [
    {
     "name": "stdout",
     "output_type": "stream",
     "text": [
      "what is favort clourapple\n",
      "apple\n"
     ]
    }
   ],
   "source": [
    "basket = input(\"what is favort clour\")\n",
    "print(basket)"
   ]
  },
  {
   "cell_type": "code",
   "execution_count": 38,
   "metadata": {},
   "outputs": [
    {
     "name": "stdout",
     "output_type": "stream",
     "text": [
      "what is nameali\n"
     ]
    }
   ],
   "source": [
    "## input 2 stage\n",
    "name = input(\"what is name\")\n",
    "greeting =\"hellow\""
   ]
  },
  {
   "cell_type": "code",
   "execution_count": 39,
   "metadata": {},
   "outputs": [
    {
     "name": "stdout",
     "output_type": "stream",
     "text": [
      "hellow ali\n"
     ]
    }
   ],
   "source": [
    "print(greeting,name)"
   ]
  },
  {
   "cell_type": "code",
   "execution_count": 40,
   "metadata": {},
   "outputs": [
    {
     "name": "stdout",
     "output_type": "stream",
     "text": [
      "what is nameali fatmi\n",
      "helow ali fatmi\n"
     ]
    }
   ],
   "source": [
    "# another stage\n",
    "name = input(\"what is name\")\n",
    "print(\"helow\",name)"
   ]
  },
  {
   "cell_type": "code",
   "execution_count": 41,
   "metadata": {},
   "outputs": [
    {
     "name": "stdout",
     "output_type": "stream",
     "text": [
      "what is your name ?ali fatmi\n",
      "how old are u13\n"
     ]
    }
   ],
   "source": [
    "name = input(\"what is your name ?\")\n",
    "age = input(\"how old are u\")\n",
    "greetings =\"hellow\""
   ]
  },
  {
   "cell_type": "code",
   "execution_count": 43,
   "metadata": {},
   "outputs": [
    {
     "name": "stdout",
     "output_type": "stream",
     "text": [
      "hellow ali fatmi  ,you are still younge\n"
     ]
    }
   ],
   "source": [
    "print(greetings,name,\" ,you are still younge\") # another way to use"
   ]
  },
  {
   "cell_type": "markdown",
   "metadata": {},
   "source": [
    "---"
   ]
  },
  {
   "cell_type": "markdown",
   "metadata": {},
   "source": [
    "#### 07-conditional logical operator"
   ]
  },
  {
   "cell_type": "code",
   "execution_count": 52,
   "metadata": {},
   "outputs": [
    {
     "name": "stdout",
     "output_type": "stream",
     "text": [
      "True\n",
      "False\n",
      "True\n",
      "False\n",
      "True\n",
      "False\n"
     ]
    }
   ],
   "source": [
    "print(4==4)\n",
    "print(3!=3)\n",
    "print(3<4)\n",
    "print(4>5)\n",
    "print(3<=4)\n",
    "print(4>=5)"
   ]
  },
  {
   "cell_type": "code",
   "execution_count": 57,
   "metadata": {},
   "outputs": [
    {
     "name": "stdout",
     "output_type": "stream",
     "text": [
      "False\n"
     ]
    }
   ],
   "source": [
    "aliage = 5\n",
    "schoolage = 6\n",
    "print(aliage==schoolage)"
   ]
  },
  {
   "cell_type": "code",
   "execution_count": 59,
   "metadata": {},
   "outputs": [
    {
     "name": "stdout",
     "output_type": "stream",
     "text": [
      "enter age6\n",
      "False\n"
     ]
    }
   ],
   "source": [
    "ageschool = 5\n",
    "x = input(\"enter age\") #input operator\n",
    "x =int(x)\n",
    "print(ageschool==x) # logical function"
   ]
  },
  {
   "cell_type": "markdown",
   "metadata": {},
   "source": [
    "---"
   ]
  },
  {
   "cell_type": "markdown",
   "metadata": {},
   "source": [
    "#### 08-type_conversion"
   ]
  },
  {
   "cell_type": "code",
   "execution_count": 64,
   "metadata": {},
   "outputs": [
    {
     "name": "stdout",
     "output_type": "stream",
     "text": [
      "<class 'float'>\n"
     ]
    }
   ],
   "source": [
    "x = 10\n",
    "y =10.8\n",
    "z= \"hellow\"\n",
    "x= x*y ## implict conversinon\n",
    "print(type(x))\n"
   ]
  },
  {
   "cell_type": "code",
   "execution_count": 65,
   "metadata": {},
   "outputs": [
    {
     "name": "stdout",
     "output_type": "stream",
     "text": [
      "what is your age23\n"
     ]
    }
   ],
   "source": [
    "age = input(\"what is your age\")"
   ]
  },
  {
   "cell_type": "code",
   "execution_count": 66,
   "metadata": {},
   "outputs": [
    {
     "data": {
      "text/plain": [
       "str"
      ]
     },
     "execution_count": 66,
     "metadata": {},
     "output_type": "execute_result"
    }
   ],
   "source": [
    "type(age)"
   ]
  },
  {
   "cell_type": "code",
   "execution_count": 67,
   "metadata": {},
   "outputs": [
    {
     "name": "stdout",
     "output_type": "stream",
     "text": [
      "what is your age12\n",
      "12 <class 'int'>\n"
     ]
    }
   ],
   "source": [
    "# explicit conversion\n",
    "age = input(\"what is your age\")\n",
    "print(age , type(int(age))) # convert to int"
   ]
  },
  {
   "cell_type": "code",
   "execution_count": 68,
   "metadata": {},
   "outputs": [
    {
     "name": "stdout",
     "output_type": "stream",
     "text": [
      "nameali\n",
      "ali <class 'str'>\n"
     ]
    }
   ],
   "source": [
    "name = input(\"name\")\n",
    "print(name , type(str(name))) # convet to str"
   ]
  },
  {
   "cell_type": "markdown",
   "metadata": {},
   "source": [
    "---"
   ]
  },
  {
   "cell_type": "markdown",
   "metadata": {},
   "source": [
    "#### 09-if else elif`"
   ]
  },
  {
   "cell_type": "code",
   "execution_count": 76,
   "metadata": {},
   "outputs": [
    {
     "name": "stdout",
     "output_type": "stream",
     "text": [
      "should care\n"
     ]
    }
   ],
   "source": [
    "school_age=5\n",
    "age = 2\n",
    "if age==school_age:\n",
    "    print(\"i can go school\")\n",
    "elif(age>school_age):\n",
    "    print(\"should go high school\") \n",
    "elif(2<=age):\n",
    "    print(\"should care\") \n",
    "else :\n",
    "    print(\"can not go\")"
   ]
  },
  {
   "cell_type": "markdown",
   "metadata": {},
   "source": [
    "---"
   ]
  },
  {
   "cell_type": "markdown",
   "metadata": {},
   "source": [
    "#### 10-functions"
   ]
  },
  {
   "cell_type": "code",
   "execution_count": 78,
   "metadata": {},
   "outputs": [
    {
     "name": "stdout",
     "output_type": "stream",
     "text": [
      "my name is fatmi\n",
      "my name is fatmi\n",
      "my name is fatmi\n",
      "my name is fatmi\n"
     ]
    }
   ],
   "source": [
    "print(\"my name is fatmi\")\n",
    "print(\"my name is fatmi\")\n",
    "print(\"my name is fatmi\")\n",
    "print(\"my name is fatmi\")"
   ]
  },
  {
   "cell_type": "code",
   "execution_count": 81,
   "metadata": {},
   "outputs": [
    {
     "name": "stdout",
     "output_type": "stream",
     "text": [
      "my name is fatmi\n",
      "my name is fatmi\n",
      "my name is fatmi\n"
     ]
    }
   ],
   "source": [
    "def print_fun():  # first method\n",
    "    print(\"my name is fatmi\")\n",
    "    print(\"my name is fatmi\")\n",
    "    print(\"my name is fatmi\")\n",
    "print_fun()"
   ]
  },
  {
   "cell_type": "code",
   "execution_count": 82,
   "metadata": {},
   "outputs": [
    {
     "name": "stdout",
     "output_type": "stream",
     "text": [
      "my name is fatmi\n",
      "my name is fatmi\n"
     ]
    }
   ],
   "source": [
    "def print_fun(): # second mehtod\n",
    "    text=\"my name is fatmi\"\n",
    "    print(text)\n",
    "    print(text)\n",
    "print_fun()"
   ]
  },
  {
   "cell_type": "code",
   "execution_count": 83,
   "metadata": {},
   "outputs": [
    {
     "name": "stdout",
     "output_type": "stream",
     "text": [
      "hellow world\n",
      "hellow world\n"
     ]
    }
   ],
   "source": [
    "def print_fun(text): #  3 mehtod\n",
    "    print(text)\n",
    "    print(text)\n",
    "print_fun(\"hellow world\")"
   ]
  },
  {
   "cell_type": "code",
   "execution_count": 84,
   "metadata": {},
   "outputs": [
    {
     "name": "stdout",
     "output_type": "stream",
     "text": [
      "should go high school\n"
     ]
    }
   ],
   "source": [
    "## defing the function with if else function\n",
    "def school_cal(age):\n",
    "    if age==5:\n",
    "        print(\"yes can go school\")\n",
    "    elif(age>5):\n",
    "        print(\"should go high school\") \n",
    "    else :\n",
    "        print(\"can not go\")\n",
    "school_cal(6)"
   ]
  },
  {
   "cell_type": "code",
   "execution_count": 86,
   "metadata": {},
   "outputs": [
    {
     "name": "stdout",
     "output_type": "stream",
     "text": [
      "40\n"
     ]
    }
   ],
   "source": [
    "# Defining the future age\n",
    "def future_age(age):\n",
    "    new=age+20\n",
    "    return new\n",
    "pridected=future_age(20)\n",
    "print(pridected)"
   ]
  },
  {
   "cell_type": "code",
   "execution_count": null,
   "metadata": {},
   "outputs": [],
   "source": []
  }
 ],
 "metadata": {
  "kernelspec": {
   "display_name": "Python 3",
   "language": "python",
   "name": "python3"
  },
  "language_info": {
   "codemirror_mode": {
    "name": "ipython",
    "version": 3
   },
   "file_extension": ".py",
   "mimetype": "text/x-python",
   "name": "python",
   "nbconvert_exporter": "python",
   "pygments_lexer": "ipython3",
   "version": "3.7.6"
  }
 },
 "nbformat": 4,
 "nbformat_minor": 4
}
